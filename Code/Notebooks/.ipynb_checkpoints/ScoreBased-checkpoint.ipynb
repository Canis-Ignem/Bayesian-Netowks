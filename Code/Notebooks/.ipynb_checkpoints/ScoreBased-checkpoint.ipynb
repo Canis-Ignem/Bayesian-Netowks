{
 "cells": [
  {
   "cell_type": "markdown",
   "metadata": {
    "id": "K5qeMJnJZEFz"
   },
   "source": [
    "## Score Based Learning\n",
    "\n",
    "In this notebook I will explain the process of building a Bayesian network with a score based algorithm. Bayesian networks are very powerfull and very used in the industry. The problem is that this are very expensive to build since they are super exponential, at least in the example that pertains to this notebook.\n",
    "\n",
    "First of all we need to identify the libraries we need and import them. This are all needed in orther get a complety view of the results, check the report for help in installing pygraphviz.\n",
    "\n",
    "\n",
    "*   Pomegranate\n",
    "*   Networkx\n",
    "*   Pygraphviz\n",
    "*   Sklearn\n",
    "*   Numpy\n",
    "*   matplotlib\n",
    "*   seaborn\n",
    "\n",
    "\n",
    "\n",
    "\n",
    "\n",
    "\n"
   ]
  },
  {
   "cell_type": "code",
   "execution_count": 84,
   "metadata": {
    "colab": {
     "base_uri": "https://localhost:8080/",
     "height": 591
    },
    "executionInfo": {
     "elapsed": 130692,
     "status": "error",
     "timestamp": 1602768761676,
     "user": {
      "displayName": "Jon Perez",
      "photoUrl": "https://lh3.googleusercontent.com/a-/AOh14GhDefZdG8PdJSBen-RAHU520OG4m3tm0lRgSpjMLg=s64",
      "userId": "05119820708483297458"
     },
     "user_tz": -120
    },
    "id": "H0StSyKpYr3Q",
    "outputId": "157e6ef7-e1fa-481a-ca15-96a75b7ff3e8"
   },
   "outputs": [],
   "source": [
    "#Bayesian Networks\n",
    "import pomegranate\n",
    "from pomegranate import BayesianNetwork\n",
    "#Utils\n",
    "import seaborn, time\n",
    "import numpy as np\n",
    "import matplotlib.pyplot as plt\n",
    "#Data\n",
    "from sklearn.datasets import load_digits\n",
    "from sklearn.datasets import load_breast_cancer\n",
    "#Feature Selection\n",
    "from sklearn.feature_selection import SelectKBest\n",
    "from sklearn.feature_selection import f_regression\n",
    "from sklearn.feature_selection import chi2\n",
    "#Accuracy\n",
    "from sklearn.metrics import accuracy_score\n",
    "from sklearn.metrics import confusion_matrix\n",
    "\n",
    "import random\n",
    "import networkx\n",
    "from pomegranate.utils import plot_networkx\n",
    "\n",
    "seaborn.set_style('whitegrid')"
   ]
  },
  {
   "cell_type": "markdown",
   "metadata": {
    "id": "FFWLHThFa-Q_"
   },
   "source": [
    "# Data\n",
    "\n",
    "For this particular example i decided to use the breast cancer data from sklearn, since is the one that is easier to interpret. In order to make this a quick example we will set the number of features we take to 4 as the standerd."
   ]
  },
  {
   "cell_type": "code",
   "execution_count": 85,
   "metadata": {
    "id": "xRb4GabJbGU1",
    "scrolled": true
   },
   "outputs": [
    {
     "name": "stdout",
     "output_type": "stream",
     "text": [
      "Data shape:  (569, 30)\n",
      "Class target shape:  (569,)\n"
     ]
    },
    {
     "data": {
      "text/plain": [
       "'.. _breast_cancer_dataset:\\n\\nBreast cancer wisconsin (diagnostic) dataset\\n--------------------------------------------\\n\\n**Data Set Characteristics:**\\n\\n    :Number of Instances: 569\\n\\n    :Number of Attributes: 30 numeric, predictive attributes and the class\\n\\n    :Attribute Information:\\n        - radius (mean of distances from center to points on the perimeter)\\n        - texture (standard deviation of gray-scale values)\\n        - perimeter\\n        - area\\n        - smoothness (local variation in radius lengths)\\n        - compactness (perimeter^2 / area - 1.0)\\n        - concavity (severity of concave portions of the contour)\\n        - concave points (number of concave portions of the contour)\\n        - symmetry\\n        - fractal dimension (\"coastline approximation\" - 1)\\n\\n        The mean, standard error, and \"worst\" or largest (mean of the three\\n        worst/largest values) of these features were computed for each image,\\n        resulting in 30 features.  For instance, field 0 is Mean Radius, field\\n        10 is Radius SE, field 20 is Worst Radius.\\n\\n        - class:\\n                - WDBC-Malignant\\n                - WDBC-Benign\\n\\n    :Summary Statistics:\\n\\n    ===================================== ====== ======\\n                                           Min    Max\\n    ===================================== ====== ======\\n    radius (mean):                        6.981  28.11\\n    texture (mean):                       9.71   39.28\\n    perimeter (mean):                     43.79  188.5\\n    area (mean):                          143.5  2501.0\\n    smoothness (mean):                    0.053  0.163\\n    compactness (mean):                   0.019  0.345\\n    concavity (mean):                     0.0    0.427\\n    concave points (mean):                0.0    0.201\\n    symmetry (mean):                      0.106  0.304\\n    fractal dimension (mean):             0.05   0.097\\n    radius (standard error):              0.112  2.873\\n    texture (standard error):             0.36   4.885\\n    perimeter (standard error):           0.757  21.98\\n    area (standard error):                6.802  542.2\\n    smoothness (standard error):          0.002  0.031\\n    compactness (standard error):         0.002  0.135\\n    concavity (standard error):           0.0    0.396\\n    concave points (standard error):      0.0    0.053\\n    symmetry (standard error):            0.008  0.079\\n    fractal dimension (standard error):   0.001  0.03\\n    radius (worst):                       7.93   36.04\\n    texture (worst):                      12.02  49.54\\n    perimeter (worst):                    50.41  251.2\\n    area (worst):                         185.2  4254.0\\n    smoothness (worst):                   0.071  0.223\\n    compactness (worst):                  0.027  1.058\\n    concavity (worst):                    0.0    1.252\\n    concave points (worst):               0.0    0.291\\n    symmetry (worst):                     0.156  0.664\\n    fractal dimension (worst):            0.055  0.208\\n    ===================================== ====== ======\\n\\n    :Missing Attribute Values: None\\n\\n    :Class Distribution: 212 - Malignant, 357 - Benign\\n\\n    :Creator:  Dr. William H. Wolberg, W. Nick Street, Olvi L. Mangasarian\\n\\n    :Donor: Nick Street\\n\\n    :Date: November, 1995\\n\\nThis is a copy of UCI ML Breast Cancer Wisconsin (Diagnostic) datasets.\\nhttps://goo.gl/U2Uwz2\\n\\nFeatures are computed from a digitized image of a fine needle\\naspirate (FNA) of a breast mass.  They describe\\ncharacteristics of the cell nuclei present in the image.\\n\\nSeparating plane described above was obtained using\\nMultisurface Method-Tree (MSM-T) [K. P. Bennett, \"Decision Tree\\nConstruction Via Linear Programming.\" Proceedings of the 4th\\nMidwest Artificial Intelligence and Cognitive Science Society,\\npp. 97-101, 1992], a classification method which uses linear\\nprogramming to construct a decision tree.  Relevant features\\nwere selected using an exhaustive search in the space of 1-4\\nfeatures and 1-3 separating planes.\\n\\nThe actual linear program used to obtain the separating plane\\nin the 3-dimensional space is that described in:\\n[K. P. Bennett and O. L. Mangasarian: \"Robust Linear\\nProgramming Discrimination of Two Linearly Inseparable Sets\",\\nOptimization Methods and Software 1, 1992, 23-34].\\n\\nThis database is also available through the UW CS ftp server:\\n\\nftp ftp.cs.wisc.edu\\ncd math-prog/cpo-dataset/machine-learn/WDBC/\\n\\n.. topic:: References\\n\\n   - W.N. Street, W.H. Wolberg and O.L. Mangasarian. Nuclear feature extraction \\n     for breast tumor diagnosis. IS&T/SPIE 1993 International Symposium on \\n     Electronic Imaging: Science and Technology, volume 1905, pages 861-870,\\n     San Jose, CA, 1993.\\n   - O.L. Mangasarian, W.N. Street and W.H. Wolberg. Breast cancer diagnosis and \\n     prognosis via linear programming. Operations Research, 43(4), pages 570-577, \\n     July-August 1995.\\n   - W.H. Wolberg, W.N. Street, and O.L. Mangasarian. Machine learning techniques\\n     to diagnose breast cancer from fine-needle aspirates. Cancer Letters 77 (1994) \\n     163-171.'"
      ]
     },
     "execution_count": 85,
     "metadata": {},
     "output_type": "execute_result"
    }
   ],
   "source": [
    "data= load_breast_cancer()\n",
    "cancer_data, target = load_breast_cancer(return_X_y = True)\n",
    "numVar = 4\n",
    "\n",
    "\n",
    "print(\"Data shape: \",cancer_data.shape)\n",
    "print(\"Class target shape: \",target.shape)\n",
    "data[\"DESCR\"]"
   ]
  },
  {
   "cell_type": "markdown",
   "metadata": {},
   "source": [
    "# Preprocessing\n",
    "\n",
    "Our data is compossed of discrete numerical values, wich as i explained in the documentation is a 'no go' for any probabilistic aproach. In order to go around this we will change the values in the following way. For each feature we will calculate the mean and for every particular instance of that feature we will give it a true or false value based on if its value is higher or lower than the mean. Since the class is already binary the only modification we will make to it is a reshape in order to match the cancer_data shape. In the future we will need to convine them so this is important."
   ]
  },
  {
   "cell_type": "code",
   "execution_count": 86,
   "metadata": {},
   "outputs": [
    {
     "name": "stdout",
     "output_type": "stream",
     "text": [
      "Class target shape:  (569, 1)\n"
     ]
    },
    {
     "data": {
      "text/plain": [
       "array([[1., 0., 1., ..., 1., 1., 1.],\n",
       "       [1., 0., 1., ..., 1., 0., 1.],\n",
       "       [1., 1., 1., ..., 1., 1., 1.],\n",
       "       ...,\n",
       "       [1., 1., 1., ..., 1., 0., 0.],\n",
       "       [1., 1., 1., ..., 1., 1., 1.],\n",
       "       [0., 1., 0., ..., 0., 0., 0.]])"
      ]
     },
     "execution_count": 86,
     "metadata": {},
     "output_type": "execute_result"
    }
   ],
   "source": [
    "for i in range( cancer_data.shape[1]):\n",
    "    cancer_data[:,i] =cancer_data[:,i] > np.mean(cancer_data[:,i])\n",
    "    \n",
    "target = np.reshape(target,(target.shape[0],1))\n",
    "\n",
    "print(\"Class target shape: \",target.shape)\n",
    "cancer_data"
   ]
  },
  {
   "cell_type": "markdown",
   "metadata": {},
   "source": [
    "## Feature Selection\n",
    "\n",
    "This networks are crazy time consuming scaling super-exponetially when we increse the numver of variables or the numver of values one takes, so doing good feature selection is important. In order to do this we need to use our feature selection algorithm after we make the conversion to True/False values. In this case i am using the SelectKBest algorithm from sklearn with chi2, others have shown similar results."
   ]
  },
  {
   "cell_type": "code",
   "execution_count": 87,
   "metadata": {},
   "outputs": [
    {
     "name": "stdout",
     "output_type": "stream",
     "text": [
      "Feature selected data shape:  (569, 4)\n"
     ]
    }
   ],
   "source": [
    "fSelector = SelectKBest(chi2, k= numVar)\n",
    "selected_data = fSelector.fit_transform(cancer_data,target)\n",
    "print(\"Feature selected data shape: \",selected_data.shape)"
   ]
  },
  {
   "cell_type": "markdown",
   "metadata": {},
   "source": [
    "## Splitting Our Dataset\n",
    "\n",
    "we are almost at the end of the preprocessing part. In order to traint and test our data we will need to split it in 2."
   ]
  },
  {
   "cell_type": "code",
   "execution_count": 88,
   "metadata": {},
   "outputs": [
    {
     "data": {
      "text/plain": [
       "(285, 4)"
      ]
     },
     "execution_count": 88,
     "metadata": {},
     "output_type": "execute_result"
    }
   ],
   "source": [
    "# We use even indices for train data\n",
    "cancer_train_data = selected_data [0::2]\n",
    "cancer_train_class = target[0::2]\n",
    "\n",
    "# We use odd could indices for test data\n",
    "cancer_test_data  = selected_data[1::2]\n",
    "cancer_test_class = target[1::2]\n",
    "\n",
    "cancer_train_data.shape"
   ]
  },
  {
   "cell_type": "markdown",
   "metadata": {},
   "source": [
    "## Apendixes\n",
    "\n",
    "Bayesian networks work predicting missing values, so what better way of adding a missing value that the 'None' value from python. We will create an array full of Nones the shape of our class prediction data."
   ]
  },
  {
   "cell_type": "code",
   "execution_count": 89,
   "metadata": {},
   "outputs": [
    {
     "data": {
      "text/plain": [
       "(284, 1)"
      ]
     },
     "execution_count": 89,
     "metadata": {},
     "output_type": "execute_result"
    }
   ],
   "source": [
    "apendix = []\n",
    "for i in range(cancer_test_class.shape[0]):\n",
    "    apendix.append(None)\n",
    "apendix = np.array(apendix).reshape(cancer_test_class.shape[0],1)\n",
    "apendix.shape"
   ]
  },
  {
   "cell_type": "markdown",
   "metadata": {},
   "source": [
    "One other thing we have to do is we need to add our training class column to our train data so we can train our bayesian network. This way the 'Exact' algorithm can check how good at predictions is each possible graph. "
   ]
  },
  {
   "cell_type": "code",
   "execution_count": 90,
   "metadata": {},
   "outputs": [
    {
     "data": {
      "text/plain": [
       "(285, 5)"
      ]
     },
     "execution_count": 90,
     "metadata": {},
     "output_type": "execute_result"
    }
   ],
   "source": [
    "final_train_data = np.concatenate((cancer_train_data,cancer_train_class), axis=1)\n",
    "final_train_data.shape"
   ]
  },
  {
   "cell_type": "markdown",
   "metadata": {},
   "source": [
    "# Bayesian Network\n",
    "\n",
    "In this part we will build the Bayesian network train it and use it in order to make some predictions."
   ]
  },
  {
   "cell_type": "markdown",
   "metadata": {},
   "source": [
    "## Training\n",
    "\n",
    "In order to train the Bayesian network with pomegranate we will need to give him data in any two dimensional array form with non-discrete values and every column should have standarized values in order to work. The class variable should also be included in the data. The oder parameter we need to specify is what algorithm we will use, if we want to build our Bayesian network we need to specify wich algorithm we want to use. In our case we want it build based upon a score based system, for this we have 2 options: 'excap-dp' and 'exact', we will use 'exact' since it's an A* algorithm making it faster and using less memory compared to it's counter part."
   ]
  },
  {
   "cell_type": "markdown",
   "metadata": {},
   "source": [
    "### Simple Implementation\n",
    "In order to build a simple implementation we just need our data and to follow the instructions above."
   ]
  },
  {
   "cell_type": "code",
   "execution_count": 91,
   "metadata": {},
   "outputs": [
    {
     "data": {
      "image/png": "[encoded data removed]",
      "text/plain": [
       "<Figure size 720x360 with 1 Axes>"
      ]
     },
     "metadata": {},
     "output_type": "display_data"
    },
    {
     "name": "stdout",
     "output_type": "stream",
     "text": [
      "The models structure is:  ((4,), (), (1,), (1, 4), (2,))\n",
      "Building the model took 0.11951041221618652 `s\n"
     ]
    }
   ],
   "source": [
    "t1 = time.time()\n",
    "model = BayesianNetwork.from_samples(final_train_data, algorithm='exact') #A* algorithm for score based struture learning\n",
    "plt.figure(figsize=(10, 5))\n",
    "model.plot()\n",
    "plt.show()\n",
    "print(\"The models structure is: \", model.structure)\n",
    "print(\"Building the model took\", time.time() -t1, \"`s\")"
   ]
  },
  {
   "cell_type": "markdown",
   "metadata": {},
   "source": [
    "### Constraint Graph version\n",
    "\n",
    "Constraint graphs are usfull when you preciesly now the restrictions of the problem and want to accelerate the proccess, They are also usefull if you want to specify some constraints that cant be learnt from the data alone without context. If you have no information along this line i strongly reccomend staying away from them. In order to make this demonstraition I will use the previous 4 variable to learn restriction between themselfs and use this to build our constraint graph."
   ]
  },
  {
   "cell_type": "code",
   "execution_count": 92,
   "metadata": {},
   "outputs": [
    {
     "data": {
      "image/png": "[encoded data removed]",
      "text/plain": [
       "<Figure size 432x360 with 1 Axes>"
      ]
     },
     "metadata": {},
     "output_type": "display_data"
    }
   ],
   "source": [
    "t1 = time.time()\n",
    "model1 = BayesianNetwork.from_samples(cancer_train_data, algorithm='exact') #A* algorithm for score based struture learning\n",
    "plt.figure(figsize=(6, 5))\n",
    "model1.plot()\n",
    "plt.show()\n",
    "t2 = time.time()-t1"
   ]
  },
  {
   "cell_type": "markdown",
   "metadata": {},
   "source": [
    "From the graph above we learn that variable 2 affects variable 0 and 1 and this last 2 affect variable 3. Now we need to tell the model that our class variables 4 is affected by all of them."
   ]
  },
  {
   "cell_type": "code",
   "execution_count": 93,
   "metadata": {},
   "outputs": [
    {
     "data": {
      "image/png": "[encoded data removed]",
      "text/plain": [
       "<Figure size 432x288 with 1 Axes>"
      ]
     },
     "metadata": {},
     "output_type": "display_data"
    }
   ],
   "source": [
    "g = networkx.DiGraph()\n",
    "b = tuple([numVar])\n",
    "for i in range(len(model1.structure)):\n",
    "    if len(model1.structure[i]) > 0:\n",
    "        g.add_edge(model1.structure[i],tuple([i]))\n",
    "        g.add_edge(tuple([i]),b)\n",
    "#contraint graph\n",
    "plot_networkx(g)\n",
    "plt.show()"
   ]
  },
  {
   "cell_type": "markdown",
   "metadata": {},
   "source": [
    "We will run the exact algorithm again but with our constraint graph. In this example since we have to get the graph with the algorithm and we have a low number of features it doesnt show and we are plotting more. If you want to see it in action load the graph from another source or let the numver of variables go hihger."
   ]
  },
  {
   "cell_type": "code",
   "execution_count": 94,
   "metadata": {},
   "outputs": [
    {
     "data": {
      "image/png": "[encoded data removed]",
      "text/plain": [
       "<Figure size 360x360 with 1 Axes>"
      ]
     },
     "metadata": {},
     "output_type": "display_data"
    },
    {
     "name": "stdout",
     "output_type": "stream",
     "text": [
      "Building the model took 0.24510502815246582 `s\n"
     ]
    }
   ],
   "source": [
    "#We add the class to our training datas\n",
    "t3 = time.time()\n",
    "final_train_data = np.concatenate((cancer_train_data,cancer_train_class), axis=1)\n",
    "model_cons = BayesianNetwork.from_samples(final_train_data, algorithm='exact',constraint_graph= g) #A* algorithm for score based struture learning\n",
    "plt.figure(figsize=(5, 5))\n",
    "model_cons.plot()\n",
    "plt.show()\n",
    "final_time = (time.time()-t3) +t2\n",
    "print(\"Building the model took\", final_time, \"`s\")"
   ]
  },
  {
   "cell_type": "markdown",
   "metadata": {},
   "source": [
    "### Predicting\n",
    "\n",
    "In order to predict we need to provide a matrix with as many rows as instances we want to predict, using None as the values to infer. 0s are Falses and 1s are Trues."
   ]
  },
  {
   "cell_type": "code",
   "execution_count": 95,
   "metadata": {},
   "outputs": [
    {
     "data": {
      "text/plain": [
       "[array([0.0, True, True, False, 1.0], dtype=object)]"
      ]
     },
     "execution_count": 95,
     "metadata": {},
     "output_type": "execute_result"
    }
   ],
   "source": [
    "model_cons.predict([[None,True,True,False,None]])"
   ]
  },
  {
   "cell_type": "markdown",
   "metadata": {},
   "source": [
    "# Validations\n",
    "\n",
    "For the validation we will use our appendix in order to get a class full of Nones so the modell can predict them. After that we will need to extract the column where the class is stored since the prediction gives as an object with the matrix with all the predictions."
   ]
  },
  {
   "cell_type": "code",
   "execution_count": 102,
   "metadata": {},
   "outputs": [
    {
     "data": {
      "text/plain": [
       "[array([1.0, 1.0, 1.0, 1.0, 0.0], dtype=object),\n",
       " array([1.0, 0.0, 0.0, 0.0, 1.0], dtype=object),\n",
       " array([1.0, 0.0, 0.0, 0.0, 1.0], dtype=object),\n",
       " array([1.0, 1.0, 1.0, 1.0, 0.0], dtype=object),\n",
       " array([1.0, 0.0, 0.0, 0.0, 1.0], dtype=object),\n",
       " array([1.0, 1.0, 1.0, 1.0, 0.0], dtype=object),\n",
       " array([1.0, 1.0, 1.0, 0.0, 1.0], dtype=object),\n",
       " array([1.0, 1.0, 1.0, 1.0, 0.0], dtype=object),\n",
       " array([1.0, 1.0, 1.0, 1.0, 0.0], dtype=object),\n",
       " array([0.0, 0.0, 0.0, 0.0, 1.0], dtype=object),\n",
       " array([0.0, 0.0, 0.0, 0.0, 1.0], dtype=object),\n",
       " array([1.0, 1.0, 1.0, 1.0, 0.0], dtype=object),\n",
       " array([1.0, 1.0, 1.0, 1.0, 0.0], dtype=object),\n",
       " array([1.0, 1.0, 1.0, 1.0, 0.0], dtype=object),\n",
       " array([1.0, 1.0, 1.0, 1.0, 0.0], dtype=object),\n",
       " array([1.0, 1.0, 1.0, 1.0, 0.0], dtype=object),\n",
       " array([1.0, 1.0, 1.0, 1.0, 0.0], dtype=object),\n",
       " array([1.0, 1.0, 1.0, 1.0, 0.0], dtype=object),\n",
       " array([0.0, 0.0, 0.0, 0.0, 1.0], dtype=object),\n",
       " array([1.0, 0.0, 1.0, 0.0, 1.0], dtype=object),\n",
       " array([1.0, 0.0, 0.0, 0.0, 1.0], dtype=object),\n",
       " array([1.0, 1.0, 1.0, 1.0, 0.0], dtype=object),\n",
       " array([1.0, 1.0, 1.0, 1.0, 0.0], dtype=object),\n",
       " array([1.0, 0.0, 0.0, 0.0, 1.0], dtype=object),\n",
       " array([0.0, 0.0, 0.0, 0.0, 1.0], dtype=object),\n",
       " array([0.0, 0.0, 0.0, 0.0, 1.0], dtype=object),\n",
       " array([1.0, 1.0, 1.0, 1.0, 0.0], dtype=object),\n",
       " array([0.0, 0.0, 0.0, 0.0, 1.0], dtype=object),\n",
       " array([1.0, 1.0, 1.0, 1.0, 0.0], dtype=object),\n",
       " array([0.0, 0.0, 0.0, 0.0, 1.0], dtype=object),\n",
       " array([0.0, 0.0, 0.0, 0.0, 1.0], dtype=object),\n",
       " array([0.0, 0.0, 0.0, 0.0, 1.0], dtype=object),\n",
       " array([1.0, 1.0, 1.0, 1.0, 0.0], dtype=object),\n",
       " array([0.0, 0.0, 0.0, 0.0, 1.0], dtype=object),\n",
       " array([0.0, 0.0, 0.0, 0.0, 1.0], dtype=object),\n",
       " array([0.0, 0.0, 0.0, 0.0, 1.0], dtype=object),\n",
       " array([1.0, 1.0, 1.0, 0.0, 1.0], dtype=object),\n",
       " array([1.0, 1.0, 1.0, 1.0, 0.0], dtype=object),\n",
       " array([1.0, 1.0, 1.0, 1.0, 0.0], dtype=object),\n",
       " array([0.0, 0.0, 0.0, 0.0, 1.0], dtype=object),\n",
       " array([1.0, 0.0, 0.0, 0.0, 1.0], dtype=object),\n",
       " array([1.0, 1.0, 1.0, 1.0, 0.0], dtype=object),\n",
       " array([1.0, 1.0, 1.0, 1.0, 0.0], dtype=object),\n",
       " array([1.0, 1.0, 1.0, 1.0, 0.0], dtype=object),\n",
       " array([1.0, 1.0, 1.0, 0.0, 1.0], dtype=object),\n",
       " array([1.0, 1.0, 1.0, 0.0, 1.0], dtype=object),\n",
       " array([0.0, 0.0, 0.0, 0.0, 1.0], dtype=object),\n",
       " array([1.0, 1.0, 1.0, 1.0, 0.0], dtype=object),\n",
       " array([0.0, 0.0, 0.0, 0.0, 1.0], dtype=object),\n",
       " array([1.0, 1.0, 1.0, 0.0, 1.0], dtype=object),\n",
       " array([0.0, 0.0, 0.0, 0.0, 1.0], dtype=object),\n",
       " array([0.0, 0.0, 0.0, 0.0, 1.0], dtype=object),\n",
       " array([1.0, 1.0, 0.0, 0.0, 1.0], dtype=object),\n",
       " array([0.0, 0.0, 0.0, 0.0, 1.0], dtype=object),\n",
       " array([0.0, 0.0, 0.0, 0.0, 1.0], dtype=object),\n",
       " array([1.0, 0.0, 0.0, 0.0, 1.0], dtype=object),\n",
       " array([0.0, 0.0, 0.0, 0.0, 1.0], dtype=object),\n",
       " array([0.0, 0.0, 0.0, 0.0, 1.0], dtype=object),\n",
       " array([1.0, 1.0, 1.0, 1.0, 0.0], dtype=object),\n",
       " array([1.0, 1.0, 1.0, 1.0, 0.0], dtype=object),\n",
       " array([1.0, 1.0, 1.0, 1.0, 0.0], dtype=object),\n",
       " array([1.0, 0.0, 0.0, 0.0, 1.0], dtype=object),\n",
       " array([0.0, 0.0, 0.0, 0.0, 1.0], dtype=object),\n",
       " array([1.0, 1.0, 1.0, 1.0, 0.0], dtype=object),\n",
       " array([1.0, 1.0, 1.0, 1.0, 0.0], dtype=object),\n",
       " array([1.0, 1.0, 1.0, 1.0, 0.0], dtype=object),\n",
       " array([1.0, 1.0, 1.0, 1.0, 0.0], dtype=object),\n",
       " array([0.0, 0.0, 0.0, 0.0, 1.0], dtype=object),\n",
       " array([0.0, 0.0, 0.0, 0.0, 1.0], dtype=object),\n",
       " array([0.0, 0.0, 0.0, 0.0, 1.0], dtype=object),\n",
       " array([1.0, 1.0, 1.0, 1.0, 0.0], dtype=object),\n",
       " array([0.0, 0.0, 0.0, 0.0, 1.0], dtype=object),\n",
       " array([0.0, 0.0, 0.0, 0.0, 1.0], dtype=object),\n",
       " array([0.0, 0.0, 0.0, 0.0, 1.0], dtype=object),\n",
       " array([0.0, 0.0, 0.0, 0.0, 1.0], dtype=object),\n",
       " array([0.0, 0.0, 0.0, 0.0, 1.0], dtype=object),\n",
       " array([0.0, 0.0, 0.0, 0.0, 1.0], dtype=object),\n",
       " array([0.0, 0.0, 0.0, 0.0, 1.0], dtype=object),\n",
       " array([0.0, 1.0, 1.0, 1.0, 0.0], dtype=object),\n",
       " array([0.0, 0.0, 0.0, 0.0, 1.0], dtype=object),\n",
       " array([1.0, 1.0, 1.0, 1.0, 0.0], dtype=object),\n",
       " array([0.0, 0.0, 0.0, 0.0, 1.0], dtype=object),\n",
       " array([0.0, 0.0, 0.0, 0.0, 1.0], dtype=object),\n",
       " array([1.0, 1.0, 1.0, 1.0, 0.0], dtype=object),\n",
       " array([0.0, 0.0, 0.0, 0.0, 1.0], dtype=object),\n",
       " array([0.0, 1.0, 1.0, 1.0, 0.0], dtype=object),\n",
       " array([0.0, 0.0, 0.0, 0.0, 1.0], dtype=object),\n",
       " array([0.0, 0.0, 0.0, 0.0, 1.0], dtype=object),\n",
       " array([1.0, 1.0, 1.0, 1.0, 0.0], dtype=object),\n",
       " array([0.0, 0.0, 0.0, 0.0, 1.0], dtype=object),\n",
       " array([1.0, 1.0, 1.0, 1.0, 0.0], dtype=object),\n",
       " array([0.0, 0.0, 0.0, 0.0, 1.0], dtype=object),\n",
       " array([0.0, 0.0, 0.0, 0.0, 1.0], dtype=object),\n",
       " array([0.0, 0.0, 0.0, 0.0, 1.0], dtype=object),\n",
       " array([0.0, 0.0, 0.0, 0.0, 1.0], dtype=object),\n",
       " array([0.0, 0.0, 0.0, 0.0, 1.0], dtype=object),\n",
       " array([0.0, 0.0, 0.0, 0.0, 1.0], dtype=object),\n",
       " array([0.0, 0.0, 0.0, 0.0, 1.0], dtype=object),\n",
       " array([1.0, 1.0, 1.0, 1.0, 0.0], dtype=object),\n",
       " array([1.0, 1.0, 1.0, 1.0, 0.0], dtype=object),\n",
       " array([1.0, 1.0, 1.0, 1.0, 0.0], dtype=object),\n",
       " array([1.0, 1.0, 1.0, 1.0, 0.0], dtype=object),\n",
       " array([0.0, 1.0, 1.0, 1.0, 0.0], dtype=object),\n",
       " array([1.0, 1.0, 1.0, 1.0, 0.0], dtype=object),\n",
       " array([0.0, 1.0, 1.0, 1.0, 0.0], dtype=object),\n",
       " array([0.0, 0.0, 0.0, 0.0, 1.0], dtype=object),\n",
       " array([1.0, 1.0, 1.0, 1.0, 0.0], dtype=object),\n",
       " array([1.0, 0.0, 0.0, 0.0, 1.0], dtype=object),\n",
       " array([0.0, 0.0, 0.0, 0.0, 1.0], dtype=object),\n",
       " array([1.0, 1.0, 1.0, 1.0, 0.0], dtype=object),\n",
       " array([0.0, 0.0, 0.0, 0.0, 1.0], dtype=object),\n",
       " array([1.0, 1.0, 1.0, 1.0, 0.0], dtype=object),\n",
       " array([0.0, 1.0, 1.0, 0.0, 1.0], dtype=object),\n",
       " array([0.0, 1.0, 1.0, 0.0, 1.0], dtype=object),\n",
       " array([1.0, 0.0, 0.0, 0.0, 1.0], dtype=object),\n",
       " array([0.0, 0.0, 0.0, 0.0, 1.0], dtype=object),\n",
       " array([1.0, 1.0, 1.0, 1.0, 0.0], dtype=object),\n",
       " array([0.0, 0.0, 0.0, 0.0, 1.0], dtype=object),\n",
       " array([1.0, 1.0, 1.0, 1.0, 0.0], dtype=object),\n",
       " array([1.0, 1.0, 1.0, 1.0, 0.0], dtype=object),\n",
       " array([0.0, 0.0, 0.0, 0.0, 1.0], dtype=object),\n",
       " array([0.0, 0.0, 0.0, 0.0, 1.0], dtype=object),\n",
       " array([0.0, 0.0, 0.0, 0.0, 1.0], dtype=object),\n",
       " array([0.0, 0.0, 0.0, 0.0, 1.0], dtype=object),\n",
       " array([0.0, 0.0, 0.0, 0.0, 1.0], dtype=object),\n",
       " array([0.0, 0.0, 0.0, 0.0, 1.0], dtype=object),\n",
       " array([1.0, 1.0, 1.0, 1.0, 0.0], dtype=object),\n",
       " array([1.0, 1.0, 1.0, 0.0, 1.0], dtype=object),\n",
       " array([1.0, 1.0, 1.0, 1.0, 0.0], dtype=object),\n",
       " array([1.0, 1.0, 1.0, 1.0, 0.0], dtype=object),\n",
       " array([0.0, 1.0, 1.0, 1.0, 0.0], dtype=object),\n",
       " array([0.0, 1.0, 1.0, 1.0, 0.0], dtype=object),\n",
       " array([1.0, 1.0, 1.0, 1.0, 0.0], dtype=object),\n",
       " array([0.0, 0.0, 0.0, 0.0, 1.0], dtype=object),\n",
       " array([0.0, 0.0, 0.0, 0.0, 1.0], dtype=object),\n",
       " array([0.0, 0.0, 0.0, 0.0, 1.0], dtype=object),\n",
       " array([0.0, 0.0, 0.0, 0.0, 1.0], dtype=object),\n",
       " array([1.0, 0.0, 0.0, 0.0, 1.0], dtype=object),\n",
       " array([1.0, 1.0, 1.0, 1.0, 0.0], dtype=object),\n",
       " array([0.0, 0.0, 0.0, 0.0, 1.0], dtype=object),\n",
       " array([0.0, 0.0, 0.0, 0.0, 1.0], dtype=object),\n",
       " array([1.0, 1.0, 1.0, 1.0, 0.0], dtype=object),\n",
       " array([0.0, 0.0, 0.0, 0.0, 1.0], dtype=object),\n",
       " array([0.0, 0.0, 0.0, 0.0, 1.0], dtype=object),\n",
       " array([0.0, 0.0, 0.0, 0.0, 1.0], dtype=object),\n",
       " array([0.0, 0.0, 1.0, 0.0, 1.0], dtype=object),\n",
       " array([0.0, 0.0, 0.0, 0.0, 1.0], dtype=object),\n",
       " array([0.0, 0.0, 0.0, 0.0, 1.0], dtype=object),\n",
       " array([0.0, 0.0, 0.0, 0.0, 1.0], dtype=object),\n",
       " array([0.0, 0.0, 0.0, 0.0, 1.0], dtype=object),\n",
       " array([0.0, 0.0, 0.0, 0.0, 1.0], dtype=object),\n",
       " array([0.0, 0.0, 0.0, 0.0, 1.0], dtype=object),\n",
       " array([0.0, 0.0, 0.0, 0.0, 1.0], dtype=object),\n",
       " array([0.0, 0.0, 0.0, 0.0, 1.0], dtype=object),\n",
       " array([0.0, 0.0, 0.0, 0.0, 1.0], dtype=object),\n",
       " array([0.0, 1.0, 0.0, 0.0, 1.0], dtype=object),\n",
       " array([0.0, 0.0, 0.0, 0.0, 1.0], dtype=object),\n",
       " array([0.0, 0.0, 0.0, 0.0, 1.0], dtype=object),\n",
       " array([1.0, 1.0, 1.0, 1.0, 0.0], dtype=object),\n",
       " array([0.0, 0.0, 0.0, 0.0, 1.0], dtype=object),\n",
       " array([1.0, 1.0, 1.0, 1.0, 0.0], dtype=object),\n",
       " array([1.0, 1.0, 1.0, 1.0, 0.0], dtype=object),\n",
       " array([0.0, 0.0, 0.0, 0.0, 1.0], dtype=object),\n",
       " array([0.0, 0.0, 0.0, 0.0, 1.0], dtype=object),\n",
       " array([1.0, 1.0, 1.0, 1.0, 0.0], dtype=object),\n",
       " array([0.0, 0.0, 0.0, 0.0, 1.0], dtype=object),\n",
       " array([0.0, 0.0, 0.0, 0.0, 1.0], dtype=object),\n",
       " array([1.0, 1.0, 1.0, 1.0, 0.0], dtype=object),\n",
       " array([1.0, 1.0, 1.0, 1.0, 0.0], dtype=object),\n",
       " array([1.0, 1.0, 1.0, 1.0, 0.0], dtype=object),\n",
       " array([0.0, 0.0, 0.0, 0.0, 1.0], dtype=object),\n",
       " array([1.0, 1.0, 1.0, 1.0, 0.0], dtype=object),\n",
       " array([0.0, 0.0, 0.0, 0.0, 1.0], dtype=object),\n",
       " array([0.0, 1.0, 1.0, 1.0, 0.0], dtype=object),\n",
       " array([0.0, 0.0, 0.0, 0.0, 1.0], dtype=object),\n",
       " array([1.0, 1.0, 1.0, 1.0, 0.0], dtype=object),\n",
       " array([1.0, 1.0, 1.0, 1.0, 0.0], dtype=object),\n",
       " array([0.0, 0.0, 0.0, 0.0, 1.0], dtype=object),\n",
       " array([0.0, 0.0, 0.0, 0.0, 1.0], dtype=object),\n",
       " array([0.0, 0.0, 0.0, 0.0, 1.0], dtype=object),\n",
       " array([0.0, 0.0, 0.0, 0.0, 1.0], dtype=object),\n",
       " array([0.0, 1.0, 1.0, 1.0, 0.0], dtype=object),\n",
       " array([1.0, 1.0, 1.0, 1.0, 0.0], dtype=object),\n",
       " array([0.0, 0.0, 0.0, 0.0, 1.0], dtype=object),\n",
       " array([1.0, 1.0, 1.0, 1.0, 0.0], dtype=object),\n",
       " array([0.0, 0.0, 0.0, 0.0, 1.0], dtype=object),\n",
       " array([1.0, 1.0, 1.0, 1.0, 0.0], dtype=object),\n",
       " array([1.0, 1.0, 1.0, 0.0, 1.0], dtype=object),\n",
       " array([0.0, 0.0, 0.0, 0.0, 1.0], dtype=object),\n",
       " array([1.0, 0.0, 0.0, 0.0, 1.0], dtype=object),\n",
       " array([0.0, 0.0, 0.0, 0.0, 1.0], dtype=object),\n",
       " array([0.0, 0.0, 0.0, 0.0, 1.0], dtype=object),\n",
       " array([1.0, 0.0, 0.0, 0.0, 1.0], dtype=object),\n",
       " array([0.0, 0.0, 0.0, 0.0, 1.0], dtype=object),\n",
       " array([1.0, 1.0, 1.0, 1.0, 0.0], dtype=object),\n",
       " array([0.0, 0.0, 0.0, 0.0, 1.0], dtype=object),\n",
       " array([1.0, 1.0, 1.0, 1.0, 0.0], dtype=object),\n",
       " array([0.0, 0.0, 0.0, 0.0, 1.0], dtype=object),\n",
       " array([0.0, 0.0, 0.0, 0.0, 1.0], dtype=object),\n",
       " array([0.0, 0.0, 0.0, 0.0, 1.0], dtype=object),\n",
       " array([0.0, 0.0, 0.0, 0.0, 1.0], dtype=object),\n",
       " array([0.0, 0.0, 0.0, 0.0, 1.0], dtype=object),\n",
       " array([0.0, 0.0, 0.0, 0.0, 1.0], dtype=object),\n",
       " array([0.0, 0.0, 0.0, 0.0, 1.0], dtype=object),\n",
       " array([0.0, 0.0, 0.0, 0.0, 1.0], dtype=object),\n",
       " array([0.0, 0.0, 0.0, 0.0, 1.0], dtype=object),\n",
       " array([0.0, 1.0, 1.0, 0.0, 1.0], dtype=object),\n",
       " array([0.0, 0.0, 0.0, 0.0, 1.0], dtype=object),\n",
       " array([1.0, 1.0, 1.0, 1.0, 0.0], dtype=object),\n",
       " array([0.0, 0.0, 0.0, 0.0, 1.0], dtype=object),\n",
       " array([1.0, 1.0, 1.0, 0.0, 1.0], dtype=object),\n",
       " array([0.0, 0.0, 0.0, 0.0, 1.0], dtype=object),\n",
       " array([0.0, 0.0, 0.0, 0.0, 1.0], dtype=object),\n",
       " array([0.0, 0.0, 0.0, 0.0, 1.0], dtype=object),\n",
       " array([0.0, 0.0, 0.0, 0.0, 1.0], dtype=object),\n",
       " array([0.0, 0.0, 0.0, 0.0, 1.0], dtype=object),\n",
       " array([1.0, 1.0, 1.0, 1.0, 0.0], dtype=object),\n",
       " array([1.0, 1.0, 1.0, 0.0, 1.0], dtype=object),\n",
       " array([0.0, 0.0, 0.0, 0.0, 1.0], dtype=object),\n",
       " array([0.0, 0.0, 0.0, 0.0, 1.0], dtype=object),\n",
       " array([1.0, 1.0, 1.0, 1.0, 0.0], dtype=object),\n",
       " array([0.0, 0.0, 0.0, 0.0, 1.0], dtype=object),\n",
       " array([0.0, 0.0, 0.0, 0.0, 1.0], dtype=object),\n",
       " array([0.0, 1.0, 0.0, 0.0, 1.0], dtype=object),\n",
       " array([1.0, 1.0, 1.0, 1.0, 0.0], dtype=object),\n",
       " array([1.0, 1.0, 1.0, 1.0, 0.0], dtype=object),\n",
       " array([1.0, 0.0, 0.0, 0.0, 1.0], dtype=object),\n",
       " array([0.0, 0.0, 0.0, 0.0, 1.0], dtype=object),\n",
       " array([0.0, 0.0, 0.0, 0.0, 1.0], dtype=object),\n",
       " array([0.0, 0.0, 0.0, 0.0, 1.0], dtype=object),\n",
       " array([1.0, 1.0, 1.0, 1.0, 0.0], dtype=object),\n",
       " array([0.0, 0.0, 0.0, 0.0, 1.0], dtype=object),\n",
       " array([0.0, 0.0, 1.0, 0.0, 1.0], dtype=object),\n",
       " array([0.0, 0.0, 0.0, 0.0, 1.0], dtype=object),\n",
       " array([1.0, 0.0, 0.0, 0.0, 1.0], dtype=object),\n",
       " array([0.0, 0.0, 0.0, 0.0, 1.0], dtype=object),\n",
       " array([0.0, 0.0, 0.0, 0.0, 1.0], dtype=object),\n",
       " array([0.0, 0.0, 0.0, 0.0, 1.0], dtype=object),\n",
       " array([0.0, 0.0, 0.0, 0.0, 1.0], dtype=object),\n",
       " array([1.0, 1.0, 1.0, 1.0, 0.0], dtype=object),\n",
       " array([0.0, 1.0, 0.0, 0.0, 1.0], dtype=object),\n",
       " array([0.0, 0.0, 0.0, 0.0, 1.0], dtype=object),\n",
       " array([0.0, 0.0, 0.0, 0.0, 1.0], dtype=object),\n",
       " array([1.0, 1.0, 1.0, 1.0, 0.0], dtype=object),\n",
       " array([0.0, 1.0, 1.0, 1.0, 0.0], dtype=object),\n",
       " array([0.0, 1.0, 1.0, 1.0, 0.0], dtype=object),\n",
       " array([0.0, 0.0, 0.0, 0.0, 1.0], dtype=object),\n",
       " array([1.0, 0.0, 0.0, 0.0, 1.0], dtype=object),\n",
       " array([0.0, 0.0, 0.0, 0.0, 1.0], dtype=object),\n",
       " array([1.0, 1.0, 1.0, 1.0, 0.0], dtype=object),\n",
       " array([1.0, 0.0, 0.0, 0.0, 1.0], dtype=object),\n",
       " array([1.0, 1.0, 1.0, 1.0, 0.0], dtype=object),\n",
       " array([1.0, 0.0, 0.0, 0.0, 1.0], dtype=object),\n",
       " array([0.0, 0.0, 0.0, 0.0, 1.0], dtype=object),\n",
       " array([1.0, 1.0, 1.0, 1.0, 0.0], dtype=object),\n",
       " array([0.0, 0.0, 0.0, 0.0, 1.0], dtype=object),\n",
       " array([0.0, 1.0, 1.0, 0.0, 1.0], dtype=object),\n",
       " array([0.0, 0.0, 0.0, 0.0, 1.0], dtype=object),\n",
       " array([1.0, 1.0, 1.0, 1.0, 0.0], dtype=object),\n",
       " array([0.0, 0.0, 0.0, 0.0, 1.0], dtype=object),\n",
       " array([1.0, 1.0, 1.0, 1.0, 0.0], dtype=object),\n",
       " array([0.0, 0.0, 0.0, 0.0, 1.0], dtype=object),\n",
       " array([0.0, 0.0, 0.0, 0.0, 1.0], dtype=object),\n",
       " array([0.0, 0.0, 0.0, 0.0, 1.0], dtype=object),\n",
       " array([0.0, 0.0, 0.0, 0.0, 1.0], dtype=object),\n",
       " array([0.0, 0.0, 0.0, 0.0, 1.0], dtype=object),\n",
       " array([1.0, 1.0, 1.0, 1.0, 0.0], dtype=object),\n",
       " array([1.0, 1.0, 1.0, 1.0, 0.0], dtype=object),\n",
       " array([0.0, 0.0, 0.0, 0.0, 1.0], dtype=object),\n",
       " array([0.0, 0.0, 0.0, 0.0, 1.0], dtype=object),\n",
       " array([0.0, 0.0, 1.0, 0.0, 1.0], dtype=object),\n",
       " array([0.0, 0.0, 0.0, 0.0, 1.0], dtype=object),\n",
       " array([0.0, 0.0, 0.0, 0.0, 1.0], dtype=object),\n",
       " array([0.0, 0.0, 0.0, 0.0, 1.0], dtype=object),\n",
       " array([0.0, 0.0, 0.0, 0.0, 1.0], dtype=object),\n",
       " array([0.0, 0.0, 0.0, 0.0, 1.0], dtype=object),\n",
       " array([0.0, 0.0, 0.0, 0.0, 1.0], dtype=object),\n",
       " array([0.0, 0.0, 0.0, 0.0, 1.0], dtype=object),\n",
       " array([0.0, 0.0, 0.0, 0.0, 1.0], dtype=object),\n",
       " array([0.0, 0.0, 0.0, 0.0, 1.0], dtype=object),\n",
       " array([0.0, 0.0, 0.0, 0.0, 1.0], dtype=object),\n",
       " array([1.0, 1.0, 1.0, 1.0, 0.0], dtype=object),\n",
       " array([1.0, 1.0, 1.0, 1.0, 0.0], dtype=object),\n",
       " array([1.0, 1.0, 1.0, 1.0, 0.0], dtype=object)]"
      ]
     },
     "execution_count": 102,
     "metadata": {},
     "output_type": "execute_result"
    }
   ],
   "source": [
    "test = np.concatenate((cancer_test_data,apendix), axis=1)\n",
    "res0 = model.predict( test )\n",
    "res = model_cons.predict( test )\n",
    "res"
   ]
  },
  {
   "cell_type": "markdown",
   "metadata": {},
   "source": [
    "Extracting the class prediction."
   ]
  },
  {
   "cell_type": "code",
   "execution_count": 103,
   "metadata": {},
   "outputs": [],
   "source": [
    "#Predictions for the first model\n",
    "predict0 = []\n",
    "k = np.shape(res0)\n",
    "for i in range(k[0]):\n",
    "    predict0.append(res0[i][numVar])\n",
    "predict0 = np.array(predict0).reshape(k[0],1)\n",
    "\n",
    "#Predictions for the second model\n",
    "predict = []\n",
    "k = np.shape(res)\n",
    "for i in range(k[0]):\n",
    "    predict.append(res[i][numVar])\n",
    "predict = np.array(predict).reshape(k[0],1)\n"
   ]
  },
  {
   "cell_type": "markdown",
   "metadata": {},
   "source": [
    "## Results\n",
    "\n",
    "Lets observer the results for our 2 models"
   ]
  },
  {
   "cell_type": "code",
   "execution_count": 105,
   "metadata": {},
   "outputs": [
    {
     "name": "stdout",
     "output_type": "stream",
     "text": [
      "Accuracy score:  0.9084507042253521\n",
      "Confusion Matrix\n",
      "[[ 96  14]\n",
      " [ 12 162]]\n"
     ]
    }
   ],
   "source": [
    "#For the simple model we get this accuracy socre and confusion matrix\n",
    "acc = accuracy_score(predict0, cancer_test_class)\n",
    "\n",
    "confusionMTRX = confusion_matrix(cancer_test_class,predict0)\n",
    "print(\"Accuracy score: \",acc)\n",
    "print(\"Confusion Matrix\")\n",
    "print(confusionMTRX)\n"
   ]
  },
  {
   "cell_type": "code",
   "execution_count": 106,
   "metadata": {},
   "outputs": [
    {
     "name": "stdout",
     "output_type": "stream",
     "text": [
      "Accuracy score:  0.9049295774647887\n",
      "Confusion Matrix\n",
      "[[ 89  21]\n",
      " [  6 168]]\n"
     ]
    }
   ],
   "source": [
    "#For the model with constraints we get this accuracy socre and confusion matrix\n",
    "acc = accuracy_score(predict, cancer_test_class)\n",
    "\n",
    "confusionMTRX = confusion_matrix(cancer_test_class,predict)\n",
    "print(\"Accuracy score: \",acc)\n",
    "print(\"Confusion Matrix\")\n",
    "print(confusionMTRX)\n"
   ]
  },
  {
   "cell_type": "markdown",
   "metadata": {},
   "source": [
    "We can see that each one has a preference towards a certains class, given the subject is cancer I am favorable to the simple model since it is more accurate at correctly classifying malign tumors."
   ]
  }
 ],
 "metadata": {
  "colab": {
   "authorship_tag": "ABX9TyONEtRRIK3VJSgHhp6avsOv",
   "collapsed_sections": [],
   "name": "Untitled0.ipynb",
   "provenance": []
  },
  "kernelspec": {
   "display_name": "Python 3",
   "language": "python",
   "name": "python3"
  },
  "language_info": {
   "codemirror_mode": {
    "name": "ipython",
    "version": 3
   },
   "file_extension": ".py",
   "mimetype": "text/x-python",
   "name": "python",
   "nbconvert_exporter": "python",
   "pygments_lexer": "ipython3",
   "version": "3.8.5"
  }
 },
 "nbformat": 4,
 "nbformat_minor": 1
}
