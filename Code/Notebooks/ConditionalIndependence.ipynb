{
 "cells": [
  {
   "cell_type": "markdown",
   "metadata": {},
   "source": [
    "# Conditional Indepence\n",
    "\n",
    "In this notebook I will explain the process of building a Bayesian network from conditional independence. Bayesian networks are very powerfull and very used in the industry. The problem is that this are very expensive to build since they are super exponential, at least in the example that pertains to this notebook.\n",
    "\n",
    "First of all we need to identify the libraries we need and import them. This are all needed in orther get a complety view of the results, check the report for help in installing pygraphviz.\n",
    "\n",
    "\n",
    "*   Pomegranate\n",
    "*   Networkx\n",
    "*   Pygraphviz\n",
    "*   Sklearn\n",
    "*   Numpy\n",
    "*   matplotlib\n",
    "*   seaborn\n",
    "*   itertools\n",
    "\n",
    "\n",
    "\n",
    "\n"
   ]
  },
  {
   "cell_type": "code",
   "execution_count": 1,
   "metadata": {},
   "outputs": [],
   "source": [
    "#Bayesian Networks\n",
    "import pomegranate\n",
    "from pomegranate import BayesianNetwork\n",
    "from pomegranate import *\n",
    "#Utils\n",
    "import seaborn, time\n",
    "import numpy as np\n",
    "import matplotlib.pyplot as plt\n",
    "import copy\n",
    "#Data\n",
    "from sklearn.datasets import load_digits\n",
    "from sklearn.datasets import load_breast_cancer\n",
    "#Feature Selection\n",
    "from sklearn.feature_selection import SelectKBest\n",
    "from sklearn.feature_selection import f_regression\n",
    "from sklearn.feature_selection import chi2\n",
    "#Accuracy\n",
    "from sklearn.metrics import accuracy_score\n",
    "from sklearn.metrics import confusion_matrix\n",
    "#Itertools\n",
    "from itertools import combinations_with_replacement\n",
    "from itertools import combinations\n",
    "from itertools import permutations\n",
    "\n",
    "\n",
    "seaborn.set_style('whitegrid')"
   ]
  },
  {
   "cell_type": "markdown",
   "metadata": {
    "id": "FFWLHThFa-Q_"
   },
   "source": [
    "# Data\n",
    "\n",
    "For this particular example i decided to use the breast cancer data from sklearn, since is the one that is easier to interpret. In order to make this a quick example we will set the number of features we take to 4 as the standerd."
   ]
  },
  {
   "cell_type": "code",
   "execution_count": 2,
   "metadata": {
    "scrolled": true
   },
   "outputs": [
    {
     "name": "stdout",
     "output_type": "stream",
     "text": [
      "Data shape:  (569, 30)\n",
      "Class target shape:  (569,)\n"
     ]
    },
    {
     "data": {
      "text/plain": [
       "'.. _breast_cancer_dataset:\\n\\nBreast cancer wisconsin (diagnostic) dataset\\n--------------------------------------------\\n\\n**Data Set Characteristics:**\\n\\n    :Number of Instances: 569\\n\\n    :Number of Attributes: 30 numeric, predictive attributes and the class\\n\\n    :Attribute Information:\\n        - radius (mean of distances from center to points on the perimeter)\\n        - texture (standard deviation of gray-scale values)\\n        - perimeter\\n        - area\\n        - smoothness (local variation in radius lengths)\\n        - compactness (perimeter^2 / area - 1.0)\\n        - concavity (severity of concave portions of the contour)\\n        - concave points (number of concave portions of the contour)\\n        - symmetry\\n        - fractal dimension (\"coastline approximation\" - 1)\\n\\n        The mean, standard error, and \"worst\" or largest (mean of the three\\n        worst/largest values) of these features were computed for each image,\\n        resulting in 30 features.  For instance, field 0 is Mean Radius, field\\n        10 is Radius SE, field 20 is Worst Radius.\\n\\n        - class:\\n                - WDBC-Malignant\\n                - WDBC-Benign\\n\\n    :Summary Statistics:\\n\\n    ===================================== ====== ======\\n                                           Min    Max\\n    ===================================== ====== ======\\n    radius (mean):                        6.981  28.11\\n    texture (mean):                       9.71   39.28\\n    perimeter (mean):                     43.79  188.5\\n    area (mean):                          143.5  2501.0\\n    smoothness (mean):                    0.053  0.163\\n    compactness (mean):                   0.019  0.345\\n    concavity (mean):                     0.0    0.427\\n    concave points (mean):                0.0    0.201\\n    symmetry (mean):                      0.106  0.304\\n    fractal dimension (mean):             0.05   0.097\\n    radius (standard error):              0.112  2.873\\n    texture (standard error):             0.36   4.885\\n    perimeter (standard error):           0.757  21.98\\n    area (standard error):                6.802  542.2\\n    smoothness (standard error):          0.002  0.031\\n    compactness (standard error):         0.002  0.135\\n    concavity (standard error):           0.0    0.396\\n    concave points (standard error):      0.0    0.053\\n    symmetry (standard error):            0.008  0.079\\n    fractal dimension (standard error):   0.001  0.03\\n    radius (worst):                       7.93   36.04\\n    texture (worst):                      12.02  49.54\\n    perimeter (worst):                    50.41  251.2\\n    area (worst):                         185.2  4254.0\\n    smoothness (worst):                   0.071  0.223\\n    compactness (worst):                  0.027  1.058\\n    concavity (worst):                    0.0    1.252\\n    concave points (worst):               0.0    0.291\\n    symmetry (worst):                     0.156  0.664\\n    fractal dimension (worst):            0.055  0.208\\n    ===================================== ====== ======\\n\\n    :Missing Attribute Values: None\\n\\n    :Class Distribution: 212 - Malignant, 357 - Benign\\n\\n    :Creator:  Dr. William H. Wolberg, W. Nick Street, Olvi L. Mangasarian\\n\\n    :Donor: Nick Street\\n\\n    :Date: November, 1995\\n\\nThis is a copy of UCI ML Breast Cancer Wisconsin (Diagnostic) datasets.\\nhttps://goo.gl/U2Uwz2\\n\\nFeatures are computed from a digitized image of a fine needle\\naspirate (FNA) of a breast mass.  They describe\\ncharacteristics of the cell nuclei present in the image.\\n\\nSeparating plane described above was obtained using\\nMultisurface Method-Tree (MSM-T) [K. P. Bennett, \"Decision Tree\\nConstruction Via Linear Programming.\" Proceedings of the 4th\\nMidwest Artificial Intelligence and Cognitive Science Society,\\npp. 97-101, 1992], a classification method which uses linear\\nprogramming to construct a decision tree.  Relevant features\\nwere selected using an exhaustive search in the space of 1-4\\nfeatures and 1-3 separating planes.\\n\\nThe actual linear program used to obtain the separating plane\\nin the 3-dimensional space is that described in:\\n[K. P. Bennett and O. L. Mangasarian: \"Robust Linear\\nProgramming Discrimination of Two Linearly Inseparable Sets\",\\nOptimization Methods and Software 1, 1992, 23-34].\\n\\nThis database is also available through the UW CS ftp server:\\n\\nftp ftp.cs.wisc.edu\\ncd math-prog/cpo-dataset/machine-learn/WDBC/\\n\\n.. topic:: References\\n\\n   - W.N. Street, W.H. Wolberg and O.L. Mangasarian. Nuclear feature extraction \\n     for breast tumor diagnosis. IS&T/SPIE 1993 International Symposium on \\n     Electronic Imaging: Science and Technology, volume 1905, pages 861-870,\\n     San Jose, CA, 1993.\\n   - O.L. Mangasarian, W.N. Street and W.H. Wolberg. Breast cancer diagnosis and \\n     prognosis via linear programming. Operations Research, 43(4), pages 570-577, \\n     July-August 1995.\\n   - W.H. Wolberg, W.N. Street, and O.L. Mangasarian. Machine learning techniques\\n     to diagnose breast cancer from fine-needle aspirates. Cancer Letters 77 (1994) \\n     163-171.'"
      ]
     },
     "execution_count": 2,
     "metadata": {},
     "output_type": "execute_result"
    }
   ],
   "source": [
    "data= load_breast_cancer()\n",
    "cancer_data, target = load_breast_cancer(return_X_y = True)\n",
    "numVar = 4\n",
    "\n",
    "\n",
    "print(\"Data shape: \",cancer_data.shape)\n",
    "print(\"Class target shape: \",target.shape)\n",
    "data[\"DESCR\"]"
   ]
  },
  {
   "cell_type": "markdown",
   "metadata": {},
   "source": [
    "# Preprocessing\n",
    "\n",
    "Our data is compossed of discrete numerical values, wich as i explained in the documentation is a 'no go' for any probabilistic aproach. In order to go around this we will change the values in the following way. For each feature we will calculate the mean and for every particular instance of that feature we will give it a true or false value based on if its value is higher or lower than the mean. Difference being that in this case we need it to explictly the True and False value from python in order to have a common value amongst all libraries. Since the class is already binary the only modification we will make to it is a reshape in order to match the cancer_data shape. In the future we will need to convine them so this is important."
   ]
  },
  {
   "cell_type": "code",
   "execution_count": 3,
   "metadata": {},
   "outputs": [
    {
     "name": "stdout",
     "output_type": "stream",
     "text": [
      "Class target shape:  (569, 1)\n"
     ]
    },
    {
     "data": {
      "text/plain": [
       "array([[1., 0., 1., ..., 1., 1., 1.],\n",
       "       [1., 0., 1., ..., 1., 0., 1.],\n",
       "       [1., 1., 1., ..., 1., 1., 1.],\n",
       "       ...,\n",
       "       [1., 1., 1., ..., 1., 0., 0.],\n",
       "       [1., 1., 1., ..., 1., 1., 1.],\n",
       "       [0., 1., 0., ..., 0., 0., 0.]])"
      ]
     },
     "execution_count": 3,
     "metadata": {},
     "output_type": "execute_result"
    }
   ],
   "source": [
    "for i in range( cancer_data.shape[1]):\n",
    "    m = np.mean(cancer_data[:,i])\n",
    "    for j in range(cancer_data.shape[0]):\n",
    "        if cancer_data[j][i] > m:\n",
    "            cancer_data[j][i] = True\n",
    "        else:\n",
    "            cancer_data[j][i] = False\n",
    "            \n",
    "target = np.reshape(target,(target.shape[0],1))\n",
    "print(\"Class target shape: \",target.shape)\n",
    "cancer_data"
   ]
  },
  {
   "cell_type": "markdown",
   "metadata": {},
   "source": [
    "## Feature Selection\n",
    "\n",
    "This networks are crazy time consuming scaling super-exponetially when we increse the numver of variables or the numver of values one takes, so doing good feature selection is important. In order to do this we need to use our feature selection algorithm after we make the conversion to True/False values. In this case i am using the SelectKBest algorithm from sklearn with chi2, others have shown similar results."
   ]
  },
  {
   "cell_type": "code",
   "execution_count": 4,
   "metadata": {},
   "outputs": [
    {
     "name": "stdout",
     "output_type": "stream",
     "text": [
      "Feature selected data shape:  (569, 4)\n"
     ]
    }
   ],
   "source": [
    "fSelector = SelectKBest(chi2, k= numVar)\n",
    "selected_data = fSelector.fit_transform(cancer_data,target)\n",
    "print(\"Feature selected data shape: \",selected_data.shape)"
   ]
  },
  {
   "cell_type": "markdown",
   "metadata": {},
   "source": [
    "## Splitting Our Dataset\n",
    "\n",
    "we are almost at the end of the preprocessing part. In order to traint and test our data we will need to split it in 2."
   ]
  },
  {
   "cell_type": "code",
   "execution_count": 5,
   "metadata": {},
   "outputs": [
    {
     "data": {
      "text/plain": [
       "(285, 4)"
      ]
     },
     "execution_count": 5,
     "metadata": {},
     "output_type": "execute_result"
    }
   ],
   "source": [
    "# We use even indices for train data\n",
    "cancer_train_data = selected_data [0::2]\n",
    "cancer_train_class = target[0::2]\n",
    "\n",
    "# We use odd could indices for test data\n",
    "cancer_test_data  = selected_data[1::2]\n",
    "cancer_test_class = target[1::2]\n",
    "\n",
    "cancer_train_data.shape"
   ]
  },
  {
   "cell_type": "markdown",
   "metadata": {},
   "source": [
    "# Working With Features\n",
    "\n",
    "Now that our data has been stadarized we need to start looking at our features and their distributions. For each feature we will count how many time it takes the value True, divide it between the number of samples and to get the chance of it being False we will just do P(F) = 1 - P(T)"
   ]
  },
  {
   "cell_type": "code",
   "execution_count": 6,
   "metadata": {},
   "outputs": [
    {
     "data": {
      "text/plain": [
       "[0.3929824561403509,\n",
       " 0.36140350877192984,\n",
       " 0.3684210526315789,\n",
       " 0.312280701754386]"
      ]
     },
     "execution_count": 6,
     "metadata": {},
     "output_type": "execute_result"
    }
   ],
   "source": [
    "trues =  []\n",
    "cont = 0\n",
    "for i in range(cancer_train_data.shape[1]):\n",
    "\n",
    "    cont = 0\n",
    "    for j in range(cancer_train_data.shape[0]):\n",
    "\n",
    "        if cancer_train_data[j][i]:\n",
    "            cont += 1\n",
    "\n",
    "    trues.append(cont/cancer_train_data.shape[0])\n",
    "trues"
   ]
  },
  {
   "cell_type": "markdown",
   "metadata": {},
   "source": [
    "Now we need to put this in a structure pomegranate will understand, we will use the DiscreteDistribution for our porpouses."
   ]
  },
  {
   "cell_type": "code",
   "execution_count": 7,
   "metadata": {},
   "outputs": [
    {
     "data": {
      "text/plain": [
       "{\n",
       "    \"class\" :\"Distribution\",\n",
       "    \"dtype\" :\"bool\",\n",
       "    \"name\" :\"DiscreteDistribution\",\n",
       "    \"parameters\" :[\n",
       "        {\n",
       "            \"True\" :0.3929824561403509,\n",
       "            \"False\" :0.6070175438596491\n",
       "        }\n",
       "    ],\n",
       "    \"frozen\" :false\n",
       "}"
      ]
     },
     "execution_count": 7,
     "metadata": {},
     "output_type": "execute_result"
    }
   ],
   "source": [
    "feature0 = DiscreteDistribution( {True: trues[0], False: 1-trues[0] } )\n",
    "feature1 = DiscreteDistribution( {True: trues[1], False: 1-trues[1] } )\n",
    "feature2 = DiscreteDistribution( {True: trues[2], False: 1-trues[2] } )\n",
    "feature3 = DiscreteDistribution( {True: trues[3], False: 1-trues[3] } )\n",
    "\n",
    "feature0"
   ]
  },
  {
   "cell_type": "markdown",
   "metadata": {},
   "source": [
    "## Conditional Probability Table\n",
    "\n",
    "The next step is to build a conditional probability table. Will will need to get a sample data where we have all the possible values the dataset can take and for each set of values two rows, one with the class at True with the chance of it being True and the same for the class at False. Here you can get a glance at why this scales in sucha a manner."
   ]
  },
  {
   "cell_type": "markdown",
   "metadata": {},
   "source": [
    "### Combination of values\n",
    "\n",
    "we will use itertools to get an array where we store the posiblle combinations for the number of variables we have."
   ]
  },
  {
   "cell_type": "code",
   "execution_count": 8,
   "metadata": {},
   "outputs": [
    {
     "data": {
      "text/plain": [
       "[(True, True, True, True),\n",
       " (True, True, True, False),\n",
       " (True, True, False, False),\n",
       " (True, False, False, False),\n",
       " (False, False, False, False)]"
      ]
     },
     "execution_count": 8,
     "metadata": {},
     "output_type": "execute_result"
    }
   ],
   "source": [
    "TRUEFALSE = [True,False]\n",
    "\n",
    "comb = list(combinations_with_replacement(TRUEFALSE,numVar))\n",
    "comb"
   ]
  },
  {
   "cell_type": "markdown",
   "metadata": {},
   "source": [
    "### Permutations\n",
    "\n",
    "Now that we have the combinations we will get for each one all the possible permutations and we will store them in an list. Once again we will use itertools."
   ]
  },
  {
   "cell_type": "code",
   "execution_count": 9,
   "metadata": {},
   "outputs": [
    {
     "name": "stdout",
     "output_type": "stream",
     "text": [
      "(16, 4)\n"
     ]
    },
    {
     "data": {
      "text/plain": [
       "[[True, True, True, True],\n",
       " [True, True, True, False],\n",
       " [True, True, False, True],\n",
       " [True, False, True, True],\n",
       " [False, True, True, True],\n",
       " [True, True, False, False],\n",
       " [True, False, True, False],\n",
       " [True, False, False, True],\n",
       " [False, True, True, False],\n",
       " [False, True, False, True],\n",
       " [False, False, True, True],\n",
       " [True, False, False, False],\n",
       " [False, True, False, False],\n",
       " [False, False, True, False],\n",
       " [False, False, False, True],\n",
       " [False, False, False, False]]"
      ]
     },
     "execution_count": 9,
     "metadata": {},
     "output_type": "execute_result"
    }
   ],
   "source": [
    "perms = []\n",
    "\n",
    "for i in comb:\n",
    "    v = list(permutations(i))\n",
    "    for j in v:\n",
    "        if list(j) not in perms:\n",
    "            perms.append(list(j))\n",
    "\n",
    "print(np.shape(perms))\n",
    "perms"
   ]
  },
  {
   "cell_type": "markdown",
   "metadata": {},
   "source": [
    "### Completing the table\n",
    "\n",
    "With the list above we are ready to complety our table. Lets combine the traing data with the training classes. Lets get every row from our list and we will search the dataset for every instance where the features have the same value. When this happens we store that case in a different list. after scanning the dataset for a particular value we will go the list where we stored them and start counting instances where the class is True. This is where the conditional probability table is built. We get the probabilty of the class being True and False for that set of values and we append twoo rows, one for the posibtive class and one for the negative."
   ]
  },
  {
   "cell_type": "code",
   "execution_count": 10,
   "metadata": {},
   "outputs": [
    {
     "data": {
      "text/plain": [
       "(32, 6)"
      ]
     },
     "execution_count": 10,
     "metadata": {},
     "output_type": "execute_result"
    }
   ],
   "source": [
    "final_train_data = np.concatenate((cancer_train_data,cancer_train_class), axis=1)\n",
    "FINALTABLE = []\n",
    "probs = []\n",
    "\n",
    "#For every set of values we store the row from the dataset in probs\n",
    "for i in perms:\n",
    "\n",
    "    for j in final_train_data:\n",
    "            aux = j[:numVar]\n",
    "            #print(aux[0])\n",
    "            if aux[0] == i[0] and aux[1] == i[1] and aux[2] == i[2] and aux[3] == i[3]:\n",
    "                probs.append(j)\n",
    "\n",
    "    #For every row in probs we compute the chance of it having True as a class\n",
    "    cont = 0\n",
    "    for k in probs:\n",
    "        if k[4]:\n",
    "            cont += 1\n",
    "    #We add to our Table two rows one with the positive class and its chance and once for the negative class\n",
    "    #with the reverse probability\n",
    "    negation = copy.copy(i)\n",
    "    i.append(1)\n",
    "    negation.append(0)\n",
    "    i.append(cont/cancer_train_data.shape[0])\n",
    "    negation.append(1-(cont/cancer_train_data.shape[0]))\n",
    "    FINALTABLE.append(i)\n",
    "    FINALTABLE.append(negation)\n",
    "\n",
    "np.shape(FINALTABLE)"
   ]
  },
  {
   "cell_type": "markdown",
   "metadata": {},
   "source": [
    "### Creating the distribution for pomegranate\n",
    "\n",
    "The same way we needed to put the feature distribution in a way pomegrante understands we will do the same with our table. We need to pass the table we computed and the set of feautres affecting its values. The number of columns our table has will alway be: numFeatures +2, and the number of rows: allPosibleCombinations * 2"
   ]
  },
  {
   "cell_type": "code",
   "execution_count": 11,
   "metadata": {},
   "outputs": [],
   "source": [
    "cancer_distribution = ConditionalProbabilityTable(FINALTABLE, [feature0,feature1,feature2,feature3])"
   ]
  },
  {
   "cell_type": "markdown",
   "metadata": {},
   "source": [
    "### Building the Graph\n",
    "\n",
    "This graph is a simple one where all the variables have direct influence in the class."
   ]
  },
  {
   "cell_type": "code",
   "execution_count": 12,
   "metadata": {},
   "outputs": [],
   "source": [
    "#Create a state for each feature and one for the table\n",
    "s0 = State(feature0, name= \"feature0\")\n",
    "s1 = State(feature1, name= \"feature1\")\n",
    "s2 = State(feature2, name= \"feature2\")\n",
    "s3 = State(feature3, name= \"feature3\")\n",
    "s4 = State(cancer_distribution, name = \"distribution\")\n",
    "\n",
    "#Add the estate to the network\n",
    "bNetwork = BayesianNetwork(\"Conditional indepence\")\n",
    "bNetwork.add_states( s0, s1, s2, s3, s4 )\n",
    "\n",
    "#Add the edges\n",
    "bNetwork.add_edge(s0,s4)\n",
    "bNetwork.add_edge(s1,s4)\n",
    "bNetwork.add_edge(s2,s4)\n",
    "bNetwork.add_edge(s3,s4)"
   ]
  },
  {
   "cell_type": "markdown",
   "metadata": {},
   "source": [
    "### Baking the network\n",
    "\n",
    "Baking the networks allows pomegrante to finnish learning the details in the conditional distributions of our table and the features. It is really finicky with the set of values, as in 1 wont at all correlate to True or even to 1.0 this is why I decided to go for Python True/Flase since this can be made universal accross libraries. Strings are an option but you encounter problems with how numpy will return to you those values and you table in the baking proccess so be carefull."
   ]
  },
  {
   "cell_type": "code",
   "execution_count": 13,
   "metadata": {},
   "outputs": [
    {
     "data": {
      "image/png": "[encoded data removed]",
      "text/plain": [
       "<Figure size 720x360 with 1 Axes>"
      ]
     },
     "metadata": {},
     "output_type": "display_data"
    }
   ],
   "source": [
    "bNetwork.bake()\n",
    "\n",
    "plt.figure(figsize=(10, 5))\n",
    "bNetwork.plot()\n",
    "plt.show()"
   ]
  },
  {
   "cell_type": "markdown",
   "metadata": {},
   "source": [
    "## Predictions\n",
    "\n",
    "we can get two type of predictions, one is the similiar to one we saw in the score based network and the other will give us a probability distribution."
   ]
  },
  {
   "cell_type": "code",
   "execution_count": 14,
   "metadata": {},
   "outputs": [
    {
     "name": "stdout",
     "output_type": "stream",
     "text": [
      "[array([True, True, True, False,\n",
      "       {\n",
      "    \"class\" :\"Distribution\",\n",
      "    \"dtype\" :\"int\",\n",
      "    \"name\" :\"DiscreteDistribution\",\n",
      "    \"parameters\" :[\n",
      "        {\n",
      "            \"0\" :0.9929824561403506,\n",
      "            \"1\" :0.0070175438596493354\n",
      "        }\n",
      "    ],\n",
      "    \"frozen\" :false\n",
      "}], dtype=object)]\n"
     ]
    }
   ],
   "source": [
    "print(bNetwork.predict_proba( [ { \"feature0\": True, \"feature1\": True, \"feature2\": True, \"feature3\": False } ] ) )\n"
   ]
  },
  {
   "cell_type": "code",
   "execution_count": 15,
   "metadata": {},
   "outputs": [
    {
     "data": {
      "text/plain": [
       "[array([1.0, 1.0, 1.0, 1.0, 0], dtype=object),\n",
       " array([1.0, 0.0, 0.0, 0.0, 0], dtype=object),\n",
       " array([1.0, 0.0, 0.0, 0.0, 0], dtype=object),\n",
       " array([1.0, 1.0, 1.0, 1.0, 0], dtype=object),\n",
       " array([1.0, 0.0, 0.0, 0.0, 0], dtype=object),\n",
       " array([1.0, 1.0, 1.0, 1.0, 0], dtype=object),\n",
       " array([1.0, 1.0, 1.0, 0.0, 0], dtype=object),\n",
       " array([1.0, 1.0, 1.0, 1.0, 0], dtype=object),\n",
       " array([1.0, 1.0, 1.0, 1.0, 0], dtype=object),\n",
       " array([0.0, 0.0, 0.0, 0.0, 1], dtype=object),\n",
       " array([0.0, 0.0, 0.0, 0.0, 1], dtype=object),\n",
       " array([1.0, 1.0, 1.0, 1.0, 0], dtype=object),\n",
       " array([1.0, 1.0, 1.0, 1.0, 0], dtype=object),\n",
       " array([1.0, 1.0, 1.0, 1.0, 0], dtype=object),\n",
       " array([1.0, 1.0, 1.0, 1.0, 0], dtype=object),\n",
       " array([1.0, 1.0, 1.0, 1.0, 0], dtype=object),\n",
       " array([1.0, 1.0, 1.0, 1.0, 0], dtype=object),\n",
       " array([1.0, 1.0, 1.0, 1.0, 0], dtype=object),\n",
       " array([0.0, 0.0, 0.0, 0.0, 1], dtype=object),\n",
       " array([1.0, 0.0, 1.0, 0.0, 0], dtype=object),\n",
       " array([1.0, 0.0, 0.0, 0.0, 0], dtype=object),\n",
       " array([1.0, 1.0, 1.0, 1.0, 0], dtype=object),\n",
       " array([1.0, 1.0, 1.0, 1.0, 0], dtype=object),\n",
       " array([1.0, 0.0, 0.0, 0.0, 0], dtype=object),\n",
       " array([0.0, 0.0, 0.0, 0.0, 1], dtype=object),\n",
       " array([0.0, 0.0, 0.0, 0.0, 1], dtype=object),\n",
       " array([1.0, 1.0, 1.0, 1.0, 0], dtype=object),\n",
       " array([0.0, 0.0, 0.0, 0.0, 1], dtype=object),\n",
       " array([1.0, 1.0, 1.0, 1.0, 0], dtype=object),\n",
       " array([0.0, 0.0, 0.0, 0.0, 1], dtype=object),\n",
       " array([0.0, 0.0, 0.0, 0.0, 1], dtype=object),\n",
       " array([0.0, 0.0, 0.0, 0.0, 1], dtype=object),\n",
       " array([1.0, 1.0, 1.0, 1.0, 0], dtype=object),\n",
       " array([0.0, 0.0, 0.0, 0.0, 1], dtype=object),\n",
       " array([0.0, 0.0, 0.0, 0.0, 1], dtype=object),\n",
       " array([0.0, 0.0, 0.0, 0.0, 1], dtype=object),\n",
       " array([1.0, 1.0, 1.0, 0.0, 0], dtype=object),\n",
       " array([1.0, 1.0, 1.0, 1.0, 0], dtype=object),\n",
       " array([1.0, 1.0, 1.0, 1.0, 0], dtype=object),\n",
       " array([0.0, 0.0, 0.0, 0.0, 1], dtype=object),\n",
       " array([1.0, 0.0, 0.0, 0.0, 0], dtype=object),\n",
       " array([1.0, 1.0, 1.0, 1.0, 0], dtype=object),\n",
       " array([1.0, 1.0, 1.0, 1.0, 0], dtype=object),\n",
       " array([1.0, 1.0, 1.0, 1.0, 0], dtype=object),\n",
       " array([1.0, 1.0, 1.0, 0.0, 0], dtype=object),\n",
       " array([1.0, 1.0, 1.0, 0.0, 0], dtype=object),\n",
       " array([0.0, 0.0, 0.0, 0.0, 1], dtype=object),\n",
       " array([1.0, 1.0, 1.0, 1.0, 0], dtype=object),\n",
       " array([0.0, 0.0, 0.0, 0.0, 1], dtype=object),\n",
       " array([1.0, 1.0, 1.0, 0.0, 0], dtype=object),\n",
       " array([0.0, 0.0, 0.0, 0.0, 1], dtype=object),\n",
       " array([0.0, 0.0, 0.0, 0.0, 1], dtype=object),\n",
       " array([1.0, 1.0, 0.0, 0.0, 0], dtype=object),\n",
       " array([0.0, 0.0, 0.0, 0.0, 1], dtype=object),\n",
       " array([0.0, 0.0, 0.0, 0.0, 1], dtype=object),\n",
       " array([1.0, 0.0, 0.0, 0.0, 0], dtype=object),\n",
       " array([0.0, 0.0, 0.0, 0.0, 1], dtype=object),\n",
       " array([0.0, 0.0, 0.0, 0.0, 1], dtype=object),\n",
       " array([1.0, 1.0, 1.0, 1.0, 0], dtype=object),\n",
       " array([1.0, 1.0, 1.0, 1.0, 0], dtype=object),\n",
       " array([1.0, 1.0, 1.0, 1.0, 0], dtype=object),\n",
       " array([1.0, 0.0, 0.0, 0.0, 0], dtype=object),\n",
       " array([0.0, 0.0, 0.0, 0.0, 1], dtype=object),\n",
       " array([1.0, 1.0, 1.0, 1.0, 0], dtype=object),\n",
       " array([1.0, 1.0, 1.0, 1.0, 0], dtype=object),\n",
       " array([1.0, 1.0, 1.0, 1.0, 0], dtype=object),\n",
       " array([1.0, 1.0, 1.0, 1.0, 0], dtype=object),\n",
       " array([0.0, 0.0, 0.0, 0.0, 1], dtype=object),\n",
       " array([0.0, 0.0, 0.0, 0.0, 1], dtype=object),\n",
       " array([0.0, 0.0, 0.0, 0.0, 1], dtype=object),\n",
       " array([1.0, 1.0, 1.0, 1.0, 0], dtype=object),\n",
       " array([0.0, 0.0, 0.0, 0.0, 1], dtype=object),\n",
       " array([0.0, 0.0, 0.0, 0.0, 1], dtype=object),\n",
       " array([0.0, 0.0, 0.0, 0.0, 1], dtype=object),\n",
       " array([0.0, 0.0, 0.0, 0.0, 1], dtype=object),\n",
       " array([0.0, 0.0, 0.0, 0.0, 1], dtype=object),\n",
       " array([0.0, 0.0, 0.0, 0.0, 1], dtype=object),\n",
       " array([0.0, 0.0, 0.0, 0.0, 1], dtype=object),\n",
       " array([0.0, 1.0, 1.0, 1.0, 0], dtype=object),\n",
       " array([0.0, 0.0, 0.0, 0.0, 1], dtype=object),\n",
       " array([1.0, 1.0, 1.0, 1.0, 0], dtype=object),\n",
       " array([0.0, 0.0, 0.0, 0.0, 1], dtype=object),\n",
       " array([0.0, 0.0, 0.0, 0.0, 1], dtype=object),\n",
       " array([1.0, 1.0, 1.0, 1.0, 0], dtype=object),\n",
       " array([0.0, 0.0, 0.0, 0.0, 1], dtype=object),\n",
       " array([0.0, 1.0, 1.0, 1.0, 0], dtype=object),\n",
       " array([0.0, 0.0, 0.0, 0.0, 1], dtype=object),\n",
       " array([0.0, 0.0, 0.0, 0.0, 1], dtype=object),\n",
       " array([1.0, 1.0, 1.0, 1.0, 0], dtype=object),\n",
       " array([0.0, 0.0, 0.0, 0.0, 1], dtype=object),\n",
       " array([1.0, 1.0, 1.0, 1.0, 0], dtype=object),\n",
       " array([0.0, 0.0, 0.0, 0.0, 1], dtype=object),\n",
       " array([0.0, 0.0, 0.0, 0.0, 1], dtype=object),\n",
       " array([0.0, 0.0, 0.0, 0.0, 1], dtype=object),\n",
       " array([0.0, 0.0, 0.0, 0.0, 1], dtype=object),\n",
       " array([0.0, 0.0, 0.0, 0.0, 1], dtype=object),\n",
       " array([0.0, 0.0, 0.0, 0.0, 1], dtype=object),\n",
       " array([0.0, 0.0, 0.0, 0.0, 1], dtype=object),\n",
       " array([1.0, 1.0, 1.0, 1.0, 0], dtype=object),\n",
       " array([1.0, 1.0, 1.0, 1.0, 0], dtype=object),\n",
       " array([1.0, 1.0, 1.0, 1.0, 0], dtype=object),\n",
       " array([1.0, 1.0, 1.0, 1.0, 0], dtype=object),\n",
       " array([0.0, 1.0, 1.0, 1.0, 0], dtype=object),\n",
       " array([1.0, 1.0, 1.0, 1.0, 0], dtype=object),\n",
       " array([0.0, 1.0, 1.0, 1.0, 0], dtype=object),\n",
       " array([0.0, 0.0, 0.0, 0.0, 1], dtype=object),\n",
       " array([1.0, 1.0, 1.0, 1.0, 0], dtype=object),\n",
       " array([1.0, 0.0, 0.0, 0.0, 0], dtype=object),\n",
       " array([0.0, 0.0, 0.0, 0.0, 1], dtype=object),\n",
       " array([1.0, 1.0, 1.0, 1.0, 0], dtype=object),\n",
       " array([0.0, 0.0, 0.0, 0.0, 1], dtype=object),\n",
       " array([1.0, 1.0, 1.0, 1.0, 0], dtype=object),\n",
       " array([0.0, 1.0, 1.0, 0.0, 0], dtype=object),\n",
       " array([0.0, 1.0, 1.0, 0.0, 0], dtype=object),\n",
       " array([1.0, 0.0, 0.0, 0.0, 0], dtype=object),\n",
       " array([0.0, 0.0, 0.0, 0.0, 1], dtype=object),\n",
       " array([1.0, 1.0, 1.0, 1.0, 0], dtype=object),\n",
       " array([0.0, 0.0, 0.0, 0.0, 1], dtype=object),\n",
       " array([1.0, 1.0, 1.0, 1.0, 0], dtype=object),\n",
       " array([1.0, 1.0, 1.0, 1.0, 0], dtype=object),\n",
       " array([0.0, 0.0, 0.0, 0.0, 1], dtype=object),\n",
       " array([0.0, 0.0, 0.0, 0.0, 1], dtype=object),\n",
       " array([0.0, 0.0, 0.0, 0.0, 1], dtype=object),\n",
       " array([0.0, 0.0, 0.0, 0.0, 1], dtype=object),\n",
       " array([0.0, 0.0, 0.0, 0.0, 1], dtype=object),\n",
       " array([0.0, 0.0, 0.0, 0.0, 1], dtype=object),\n",
       " array([1.0, 1.0, 1.0, 1.0, 0], dtype=object),\n",
       " array([1.0, 1.0, 1.0, 0.0, 0], dtype=object),\n",
       " array([1.0, 1.0, 1.0, 1.0, 0], dtype=object),\n",
       " array([1.0, 1.0, 1.0, 1.0, 0], dtype=object),\n",
       " array([0.0, 1.0, 1.0, 1.0, 0], dtype=object),\n",
       " array([0.0, 1.0, 1.0, 1.0, 0], dtype=object),\n",
       " array([1.0, 1.0, 1.0, 1.0, 0], dtype=object),\n",
       " array([0.0, 0.0, 0.0, 0.0, 1], dtype=object),\n",
       " array([0.0, 0.0, 0.0, 0.0, 1], dtype=object),\n",
       " array([0.0, 0.0, 0.0, 0.0, 1], dtype=object),\n",
       " array([0.0, 0.0, 0.0, 0.0, 1], dtype=object),\n",
       " array([1.0, 0.0, 0.0, 0.0, 0], dtype=object),\n",
       " array([1.0, 1.0, 1.0, 1.0, 0], dtype=object),\n",
       " array([0.0, 0.0, 0.0, 0.0, 1], dtype=object),\n",
       " array([0.0, 0.0, 0.0, 0.0, 1], dtype=object),\n",
       " array([1.0, 1.0, 1.0, 1.0, 0], dtype=object),\n",
       " array([0.0, 0.0, 0.0, 0.0, 1], dtype=object),\n",
       " array([0.0, 0.0, 0.0, 0.0, 1], dtype=object),\n",
       " array([0.0, 0.0, 0.0, 0.0, 1], dtype=object),\n",
       " array([0.0, 0.0, 1.0, 0.0, 0], dtype=object),\n",
       " array([0.0, 0.0, 0.0, 0.0, 1], dtype=object),\n",
       " array([0.0, 0.0, 0.0, 0.0, 1], dtype=object),\n",
       " array([0.0, 0.0, 0.0, 0.0, 1], dtype=object),\n",
       " array([0.0, 0.0, 0.0, 0.0, 1], dtype=object),\n",
       " array([0.0, 0.0, 0.0, 0.0, 1], dtype=object),\n",
       " array([0.0, 0.0, 0.0, 0.0, 1], dtype=object),\n",
       " array([0.0, 0.0, 0.0, 0.0, 1], dtype=object),\n",
       " array([0.0, 0.0, 0.0, 0.0, 1], dtype=object),\n",
       " array([0.0, 0.0, 0.0, 0.0, 1], dtype=object),\n",
       " array([0.0, 1.0, 0.0, 0.0, 0], dtype=object),\n",
       " array([0.0, 0.0, 0.0, 0.0, 1], dtype=object),\n",
       " array([0.0, 0.0, 0.0, 0.0, 1], dtype=object),\n",
       " array([1.0, 1.0, 1.0, 1.0, 0], dtype=object),\n",
       " array([0.0, 0.0, 0.0, 0.0, 1], dtype=object),\n",
       " array([1.0, 1.0, 1.0, 1.0, 0], dtype=object),\n",
       " array([1.0, 1.0, 1.0, 1.0, 0], dtype=object),\n",
       " array([0.0, 0.0, 0.0, 0.0, 1], dtype=object),\n",
       " array([0.0, 0.0, 0.0, 0.0, 1], dtype=object),\n",
       " array([1.0, 1.0, 1.0, 1.0, 0], dtype=object),\n",
       " array([0.0, 0.0, 0.0, 0.0, 1], dtype=object),\n",
       " array([0.0, 0.0, 0.0, 0.0, 1], dtype=object),\n",
       " array([1.0, 1.0, 1.0, 1.0, 0], dtype=object),\n",
       " array([1.0, 1.0, 1.0, 1.0, 0], dtype=object),\n",
       " array([1.0, 1.0, 1.0, 1.0, 0], dtype=object),\n",
       " array([0.0, 0.0, 0.0, 0.0, 1], dtype=object),\n",
       " array([1.0, 1.0, 1.0, 1.0, 0], dtype=object),\n",
       " array([0.0, 0.0, 0.0, 0.0, 1], dtype=object),\n",
       " array([0.0, 1.0, 1.0, 1.0, 0], dtype=object),\n",
       " array([0.0, 0.0, 0.0, 0.0, 1], dtype=object),\n",
       " array([1.0, 1.0, 1.0, 1.0, 0], dtype=object),\n",
       " array([1.0, 1.0, 1.0, 1.0, 0], dtype=object),\n",
       " array([0.0, 0.0, 0.0, 0.0, 1], dtype=object),\n",
       " array([0.0, 0.0, 0.0, 0.0, 1], dtype=object),\n",
       " array([0.0, 0.0, 0.0, 0.0, 1], dtype=object),\n",
       " array([0.0, 0.0, 0.0, 0.0, 1], dtype=object),\n",
       " array([0.0, 1.0, 1.0, 1.0, 0], dtype=object),\n",
       " array([1.0, 1.0, 1.0, 1.0, 0], dtype=object),\n",
       " array([0.0, 0.0, 0.0, 0.0, 1], dtype=object),\n",
       " array([1.0, 1.0, 1.0, 1.0, 0], dtype=object),\n",
       " array([0.0, 0.0, 0.0, 0.0, 1], dtype=object),\n",
       " array([1.0, 1.0, 1.0, 1.0, 0], dtype=object),\n",
       " array([1.0, 1.0, 1.0, 0.0, 0], dtype=object),\n",
       " array([0.0, 0.0, 0.0, 0.0, 1], dtype=object),\n",
       " array([1.0, 0.0, 0.0, 0.0, 0], dtype=object),\n",
       " array([0.0, 0.0, 0.0, 0.0, 1], dtype=object),\n",
       " array([0.0, 0.0, 0.0, 0.0, 1], dtype=object),\n",
       " array([1.0, 0.0, 0.0, 0.0, 0], dtype=object),\n",
       " array([0.0, 0.0, 0.0, 0.0, 1], dtype=object),\n",
       " array([1.0, 1.0, 1.0, 1.0, 0], dtype=object),\n",
       " array([0.0, 0.0, 0.0, 0.0, 1], dtype=object),\n",
       " array([1.0, 1.0, 1.0, 1.0, 0], dtype=object),\n",
       " array([0.0, 0.0, 0.0, 0.0, 1], dtype=object),\n",
       " array([0.0, 0.0, 0.0, 0.0, 1], dtype=object),\n",
       " array([0.0, 0.0, 0.0, 0.0, 1], dtype=object),\n",
       " array([0.0, 0.0, 0.0, 0.0, 1], dtype=object),\n",
       " array([0.0, 0.0, 0.0, 0.0, 1], dtype=object),\n",
       " array([0.0, 0.0, 0.0, 0.0, 1], dtype=object),\n",
       " array([0.0, 0.0, 0.0, 0.0, 1], dtype=object),\n",
       " array([0.0, 0.0, 0.0, 0.0, 1], dtype=object),\n",
       " array([0.0, 0.0, 0.0, 0.0, 1], dtype=object),\n",
       " array([0.0, 1.0, 1.0, 0.0, 0], dtype=object),\n",
       " array([0.0, 0.0, 0.0, 0.0, 1], dtype=object),\n",
       " array([1.0, 1.0, 1.0, 1.0, 0], dtype=object),\n",
       " array([0.0, 0.0, 0.0, 0.0, 1], dtype=object),\n",
       " array([1.0, 1.0, 1.0, 0.0, 0], dtype=object),\n",
       " array([0.0, 0.0, 0.0, 0.0, 1], dtype=object),\n",
       " array([0.0, 0.0, 0.0, 0.0, 1], dtype=object),\n",
       " array([0.0, 0.0, 0.0, 0.0, 1], dtype=object),\n",
       " array([0.0, 0.0, 0.0, 0.0, 1], dtype=object),\n",
       " array([0.0, 0.0, 0.0, 0.0, 1], dtype=object),\n",
       " array([1.0, 1.0, 1.0, 1.0, 0], dtype=object),\n",
       " array([1.0, 1.0, 1.0, 0.0, 0], dtype=object),\n",
       " array([0.0, 0.0, 0.0, 0.0, 1], dtype=object),\n",
       " array([0.0, 0.0, 0.0, 0.0, 1], dtype=object),\n",
       " array([1.0, 1.0, 1.0, 1.0, 0], dtype=object),\n",
       " array([0.0, 0.0, 0.0, 0.0, 1], dtype=object),\n",
       " array([0.0, 0.0, 0.0, 0.0, 1], dtype=object),\n",
       " array([0.0, 1.0, 0.0, 0.0, 0], dtype=object),\n",
       " array([1.0, 1.0, 1.0, 1.0, 0], dtype=object),\n",
       " array([1.0, 1.0, 1.0, 1.0, 0], dtype=object),\n",
       " array([1.0, 0.0, 0.0, 0.0, 0], dtype=object),\n",
       " array([0.0, 0.0, 0.0, 0.0, 1], dtype=object),\n",
       " array([0.0, 0.0, 0.0, 0.0, 1], dtype=object),\n",
       " array([0.0, 0.0, 0.0, 0.0, 1], dtype=object),\n",
       " array([1.0, 1.0, 1.0, 1.0, 0], dtype=object),\n",
       " array([0.0, 0.0, 0.0, 0.0, 1], dtype=object),\n",
       " array([0.0, 0.0, 1.0, 0.0, 0], dtype=object),\n",
       " array([0.0, 0.0, 0.0, 0.0, 1], dtype=object),\n",
       " array([1.0, 0.0, 0.0, 0.0, 0], dtype=object),\n",
       " array([0.0, 0.0, 0.0, 0.0, 1], dtype=object),\n",
       " array([0.0, 0.0, 0.0, 0.0, 1], dtype=object),\n",
       " array([0.0, 0.0, 0.0, 0.0, 1], dtype=object),\n",
       " array([0.0, 0.0, 0.0, 0.0, 1], dtype=object),\n",
       " array([1.0, 1.0, 1.0, 1.0, 0], dtype=object),\n",
       " array([0.0, 1.0, 0.0, 0.0, 0], dtype=object),\n",
       " array([0.0, 0.0, 0.0, 0.0, 1], dtype=object),\n",
       " array([0.0, 0.0, 0.0, 0.0, 1], dtype=object),\n",
       " array([1.0, 1.0, 1.0, 1.0, 0], dtype=object),\n",
       " array([0.0, 1.0, 1.0, 1.0, 0], dtype=object),\n",
       " array([0.0, 1.0, 1.0, 1.0, 0], dtype=object),\n",
       " array([0.0, 0.0, 0.0, 0.0, 1], dtype=object),\n",
       " array([1.0, 0.0, 0.0, 0.0, 0], dtype=object),\n",
       " array([0.0, 0.0, 0.0, 0.0, 1], dtype=object),\n",
       " array([1.0, 1.0, 1.0, 1.0, 0], dtype=object),\n",
       " array([1.0, 0.0, 0.0, 0.0, 0], dtype=object),\n",
       " array([1.0, 1.0, 1.0, 1.0, 0], dtype=object),\n",
       " array([1.0, 0.0, 0.0, 0.0, 0], dtype=object),\n",
       " array([0.0, 0.0, 0.0, 0.0, 1], dtype=object),\n",
       " array([1.0, 1.0, 1.0, 1.0, 0], dtype=object),\n",
       " array([0.0, 0.0, 0.0, 0.0, 1], dtype=object),\n",
       " array([0.0, 1.0, 1.0, 0.0, 0], dtype=object),\n",
       " array([0.0, 0.0, 0.0, 0.0, 1], dtype=object),\n",
       " array([1.0, 1.0, 1.0, 1.0, 0], dtype=object),\n",
       " array([0.0, 0.0, 0.0, 0.0, 1], dtype=object),\n",
       " array([1.0, 1.0, 1.0, 1.0, 0], dtype=object),\n",
       " array([0.0, 0.0, 0.0, 0.0, 1], dtype=object),\n",
       " array([0.0, 0.0, 0.0, 0.0, 1], dtype=object),\n",
       " array([0.0, 0.0, 0.0, 0.0, 1], dtype=object),\n",
       " array([0.0, 0.0, 0.0, 0.0, 1], dtype=object),\n",
       " array([0.0, 0.0, 0.0, 0.0, 1], dtype=object),\n",
       " array([1.0, 1.0, 1.0, 1.0, 0], dtype=object),\n",
       " array([1.0, 1.0, 1.0, 1.0, 0], dtype=object),\n",
       " array([0.0, 0.0, 0.0, 0.0, 1], dtype=object),\n",
       " array([0.0, 0.0, 0.0, 0.0, 1], dtype=object),\n",
       " array([0.0, 0.0, 1.0, 0.0, 0], dtype=object),\n",
       " array([0.0, 0.0, 0.0, 0.0, 1], dtype=object),\n",
       " array([0.0, 0.0, 0.0, 0.0, 1], dtype=object),\n",
       " array([0.0, 0.0, 0.0, 0.0, 1], dtype=object),\n",
       " array([0.0, 0.0, 0.0, 0.0, 1], dtype=object),\n",
       " array([0.0, 0.0, 0.0, 0.0, 1], dtype=object),\n",
       " array([0.0, 0.0, 0.0, 0.0, 1], dtype=object),\n",
       " array([0.0, 0.0, 0.0, 0.0, 1], dtype=object),\n",
       " array([0.0, 0.0, 0.0, 0.0, 1], dtype=object),\n",
       " array([0.0, 0.0, 0.0, 0.0, 1], dtype=object),\n",
       " array([0.0, 0.0, 0.0, 0.0, 1], dtype=object),\n",
       " array([1.0, 1.0, 1.0, 1.0, 0], dtype=object),\n",
       " array([1.0, 1.0, 1.0, 1.0, 0], dtype=object),\n",
       " array([1.0, 1.0, 1.0, 1.0, 0], dtype=object)]"
      ]
     },
     "execution_count": 15,
     "metadata": {},
     "output_type": "execute_result"
    }
   ],
   "source": [
    "#Once again we need to add the missing values for our network to predict\n",
    "apendix = []\n",
    "for i in range(cancer_test_class.shape[0]):\n",
    "    apendix.append(None)\n",
    "apendix = np.array(apendix).reshape(cancer_test_class.shape[0],1)\n",
    "\n",
    "test = np.concatenate((cancer_test_data,apendix), axis=1)\n",
    "res = bNetwork.predict( test )\n",
    "res"
   ]
  },
  {
   "cell_type": "markdown",
   "metadata": {},
   "source": [
    "# Validation\n",
    "\n",
    "We will again validate our network the same way as before we will stract the class value from the object structure and use the accuary score and the confusion matrix to se the results."
   ]
  },
  {
   "cell_type": "code",
   "execution_count": 16,
   "metadata": {},
   "outputs": [],
   "source": [
    "#Extract the classes\n",
    "predict = []\n",
    "k = np.shape(res)\n",
    "for i in range(k[0]):\n",
    "    predict.append(res[i][numVar])\n",
    "predict = np.array(predict).reshape(k[0],1)"
   ]
  },
  {
   "cell_type": "code",
   "execution_count": 17,
   "metadata": {},
   "outputs": [
    {
     "name": "stdout",
     "output_type": "stream",
     "text": [
      "Accuary score: 0.8943661971830986\n",
      "Confusion Matrix\n",
      "[[107   3]\n",
      " [ 27 147]]\n"
     ]
    }
   ],
   "source": [
    "acc = accuracy_score(predict, cancer_test_class)\n",
    "\n",
    "confusionMTRX = confusion_matrix(cancer_test_class,predict)\n",
    "print(\"Accuary score:\",acc)\n",
    "print(\"Confusion Matrix\")\n",
    "print(confusionMTRX)"
   ]
  },
  {
   "cell_type": "markdown",
   "metadata": {},
   "source": [
    "We can see again very little differency in the accuracy but a very important change in the matrix, we are barely ever missclasifying the malign tumors, this is the reason I think this is the system that works best for the breast cancer dataset."
   ]
  }
 ],
 "metadata": {
  "kernelspec": {
   "display_name": "Python 3",
   "language": "python",
   "name": "python3"
  },
  "language_info": {
   "codemirror_mode": {
    "name": "ipython",
    "version": 3
   },
   "file_extension": ".py",
   "mimetype": "text/x-python",
   "name": "python",
   "nbconvert_exporter": "python",
   "pygments_lexer": "ipython3",
   "version": "3.8.5"
  }
 },
 "nbformat": 4,
 "nbformat_minor": 4
}
